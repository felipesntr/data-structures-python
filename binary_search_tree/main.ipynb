{
 "cells": [
  {
   "cell_type": "markdown",
   "metadata": {},
   "source": [
    "# Árvore binária de busca\n"
   ]
  },
  {
   "cell_type": "markdown",
   "metadata": {},
   "source": [
    "## O que é uma árvore binaria de busca\n",
    "\n",
    "- É uma arvore enraizada onde cada nó possui uma chave associada para realização da busca\n",
    "  - Exemplo\n",
    "    - Esquerda: menores ou iguais\n",
    "    - Direita: maiores ou iguas\n"
   ]
  },
  {
   "cell_type": "code",
   "execution_count": null,
   "metadata": {},
   "outputs": [],
   "source": [
    "'''\n",
    "           19\n",
    "       /        \\\n",
    "    13           23\n",
    "  /    \\      /     \\\n",
    "11      17           29\n",
    "'''\n"
   ]
  },
  {
   "cell_type": "markdown",
   "metadata": {},
   "source": [
    "# Propriedades\n",
    "\n",
    "- A realização do percurso em ordem em uma àrvore binária fornece a sequência ordenada dos elementos\n"
   ]
  },
  {
   "cell_type": "code",
   "execution_count": 79,
   "metadata": {},
   "outputs": [
    {
     "name": "stdout",
     "output_type": "stream",
     "text": [
      "11\n",
      "13\n",
      "17\n",
      "19\n",
      "23\n",
      "29\n"
     ]
    }
   ],
   "source": [
    "class Node:\n",
    "    left = None\n",
    "    right = None\n",
    "\n",
    "    def __init__(self, data):\n",
    "        self.data = data\n",
    "        self.left = None\n",
    "        self.right = None\n",
    "\n",
    "\n",
    "def insert(root, data):\n",
    "    if(root.data >= data):\n",
    "        if(root.left == None):\n",
    "            root.left = Node(data)\n",
    "            return\n",
    "        insert(root.left, data)\n",
    "    if(root.data <= data):\n",
    "        if(root.right == None):\n",
    "            root.right = Node(data)\n",
    "            return\n",
    "        insert(root.right, data)\n",
    "\n",
    "\n",
    "binary_search_tree = Node(19)\n",
    "list = [13, 17, 11, 23, 29]\n",
    "\n",
    "for num in list:\n",
    "    insert(binary_search_tree, num)\n",
    "\n",
    "\n",
    "def order(root):\n",
    "    if(root == None):\n",
    "        return\n",
    "    order(root.left)\n",
    "    print(root.data)\n",
    "    order(root.right)\n",
    "\n",
    "\n",
    "order(binary_search_tree)\n"
   ]
  },
  {
   "cell_type": "markdown",
   "metadata": {},
   "source": [
    "- Para encontrar os nós mínimo e máximo, basta realizar um percurso até cada extremidade da árvore.\n"
   ]
  },
  {
   "cell_type": "code",
   "execution_count": 65,
   "metadata": {},
   "outputs": [
    {
     "name": "stdout",
     "output_type": "stream",
     "text": [
      "11\n",
      "29\n"
     ]
    }
   ],
   "source": [
    "def minimum(root):\n",
    "    if(root.left == None):\n",
    "        return root.data\n",
    "    return minimum(root.left)\n",
    "\n",
    "\n",
    "print(minimum(binary_search_tree))\n",
    "\n",
    "\n",
    "def maximum(root):\n",
    "    if(root.right == None):\n",
    "        return root.data\n",
    "    return maximum(root.right)\n",
    "\n",
    "\n",
    "print(maximum(binary_search_tree))\n"
   ]
  },
  {
   "cell_type": "markdown",
   "metadata": {},
   "source": [
    "# Operações básicas\n"
   ]
  },
  {
   "cell_type": "markdown",
   "metadata": {},
   "source": [
    "## Busca\n",
    "\n",
    "- A busca tem início pelo elemento raiz da árvore, comparando o valor de sua chave com oparâmetro de busca\n"
   ]
  },
  {
   "cell_type": "code",
   "execution_count": 66,
   "metadata": {},
   "outputs": [
    {
     "data": {
      "text/plain": [
       "1"
      ]
     },
     "execution_count": 66,
     "metadata": {},
     "output_type": "execute_result"
    }
   ],
   "source": [
    "def search(data, root):\n",
    "    if(root == None):\n",
    "        return -1\n",
    "    if(root.data == data):\n",
    "        return 1\n",
    "    if(data < root.data):\n",
    "        return search(data, root.left)\n",
    "    if(data > root.data):\n",
    "        return search(data, root.right)\n",
    "\n",
    "\n",
    "search(maximum(binary_search_tree), binary_search_tree)\n"
   ]
  },
  {
   "cell_type": "markdown",
   "metadata": {},
   "source": [
    "# Inserção\n",
    "\n",
    "- É realizada uma operação de busca utilizando a chave do elemento que será inserido até encontrar uma referência nula\n"
   ]
  },
  {
   "cell_type": "code",
   "execution_count": null,
   "metadata": {},
   "outputs": [],
   "source": [
    "def insert(root, data):\n",
    "    if(root.data >= data):\n",
    "        if(root.left == None):\n",
    "            root.left = Node(data)\n",
    "            return\n",
    "        insert(root.left, data)\n",
    "    if(root.data <= data):\n",
    "        if(root.right == None):\n",
    "            root.right = Node(data)\n",
    "            return\n",
    "        insert(root.right, data)\n"
   ]
  },
  {
   "cell_type": "markdown",
   "metadata": {},
   "source": [
    "# Remoção\n",
    "\n",
    "- caso 1: o nó removido é uma folha\n",
    "  - É feita a busca pela chave do elemento\n",
    "- caso 2: o nó removido possui uma subàrvore\n",
    "  - o elemento é removido e a referencia do nó pai é atualizada para referenciar a asubárvore\n",
    "- caso 3: o nó removido possui duas subàrvores\n",
    "  - É feita a busca pela chave do elemento\n",
    "  - O elemento raiz é substituído pelo seu predecessor ou sucessor que será removido após substituição"
   ]
  },
  {
   "cell_type": "code",
   "execution_count": 85,
   "metadata": {},
   "outputs": [
    {
     "name": "stdout",
     "output_type": "stream",
     "text": [
      "11\n",
      "13\n",
      "17\n",
      "19\n",
      "23\n",
      "29\n",
      "13\n",
      "17\n",
      "19\n",
      "23\n",
      "29\n"
     ]
    }
   ],
   "source": [
    "def remove(root, data):\n",
    "    # base case\n",
    "    if(root == None):\n",
    "        return root\n",
    "    # if the data to be deleted\n",
    "    # is smaller than the root's\n",
    "    # data then it lies in left subtree\n",
    "    if(data < root.data):\n",
    "        root.left = remove(root.left, data)\n",
    "    # if the data to be deleteded\n",
    "    # is greater then the root's data\n",
    "    # then it lies in right subtree\n",
    "    elif(data > root.data):\n",
    "        root.right = remove(root.right, data)\n",
    "    # if data is same as root's key, then this is the node\n",
    "    # to be deleted\n",
    "    else:\n",
    "        # node with only one child or no child\n",
    "        if(root.left == None):\n",
    "            temp = root.right\n",
    "            root = None\n",
    "            return temp\n",
    "        elif(root.right == None):\n",
    "            temp = root.left\n",
    "            root = None\n",
    "            return temp\n",
    "        # node with two children\n",
    "        # get the inorder successor\n",
    "        # (smallest in the right subtree)\n",
    "        temp = minimum(root.right)\n",
    "        # copy the inorder successors\n",
    "        # content to this node\n",
    "        root.data = temp.data\n",
    "        # delete the inorder successor\n",
    "        root.right = remove(root.right, temp.data)\n",
    "    return root\n",
    "\n",
    "# https://www.geeksforgeeks.org/binary-search-tree-set-2-delete/\n",
    "\n",
    "order(binary_search_tree)\n",
    "remove(binary_search_tree, 11)\n",
    "order(binary_search_tree)\n",
    "\n"
   ]
  }
 ],
 "metadata": {
  "interpreter": {
   "hash": "2cdb952b1e544b37c18f1808d2be8ca31f1dba0f364734d5f4bae90c2c12c3c6"
  },
  "kernelspec": {
   "display_name": "Python 3.10.1 64-bit",
   "language": "python",
   "name": "python3"
  },
  "language_info": {
   "codemirror_mode": {
    "name": "ipython",
    "version": 3
   },
   "file_extension": ".py",
   "mimetype": "text/x-python",
   "name": "python",
   "nbconvert_exporter": "python",
   "pygments_lexer": "ipython3",
   "version": "3.10.1"
  },
  "orig_nbformat": 4
 },
 "nbformat": 4,
 "nbformat_minor": 2
}
