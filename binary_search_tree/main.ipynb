{
 "cells": [
  {
   "cell_type": "markdown",
   "metadata": {},
   "source": [
    "# Árvore binária de busca"
   ]
  },
  {
   "cell_type": "markdown",
   "metadata": {},
   "source": [
    "## O que é uma árvore binaria de busca\n",
    "\n",
    "  - É uma arvore enraizada onde cada nó possui uma chave associada para realização da busca\n",
    "    - Exemplo\n",
    "      - Esquerda: menores ou iguais\n",
    "      - Direita: maiores ou iguas"
   ]
  },
  {
   "cell_type": "code",
   "execution_count": null,
   "metadata": {},
   "outputs": [],
   "source": [
    "'''\n",
    "           19\n",
    "       /        \\\n",
    "    13           23\n",
    "  /    \\      /     \\\n",
    "11      17           29\n",
    "'''"
   ]
  },
  {
   "cell_type": "markdown",
   "metadata": {},
   "source": [
    "# Propriedades\n",
    "  - A realização do percurso em ordem em uma àrvore binária fornece a sequência ordenada dos elementos"
   ]
  },
  {
   "cell_type": "code",
   "execution_count": 14,
   "metadata": {},
   "outputs": [
    {
     "name": "stdout",
     "output_type": "stream",
     "text": [
      "19\n",
      "13\n",
      "11\n",
      "29\n",
      "17\n",
      "23\n"
     ]
    }
   ],
   "source": [
    "class Node:\n",
    "    left = None\n",
    "    right = None\n",
    "\n",
    "    def __init__(self, data):\n",
    "        self.data = data\n",
    "        self.left = None\n",
    "        self.right = None\n",
    "\n",
    "def insert(root, data):\n",
    "  if(root.data > data):\n",
    "    if(root.left == None):\n",
    "      root.left = Node(data)\n",
    "      return\n",
    "    insert(root.left, data)\n",
    "  else:\n",
    "    if(root.right == None):\n",
    "      root.right = Node(data)\n",
    "      return \n",
    "    insert(root.left, data)\n",
    "\n",
    "\n",
    "binary_search_tree = Node(19)\n",
    "list = [13, 17,11,23,29]\n",
    "\n",
    "for num in list:\n",
    "  insert(binary_search_tree, num)\n",
    "\n",
    "def print_tree(root):\n",
    "  if(root.left != None):\n",
    "    print_tree(root.left)\n",
    "  print(root.data)\n",
    "  if(root.right != None):\n",
    "    print_tree(root.right)\n",
    "  \n",
    "print_tree(binary_search_tree)"
   ]
  }
 ],
 "metadata": {
  "interpreter": {
   "hash": "2cdb952b1e544b37c18f1808d2be8ca31f1dba0f364734d5f4bae90c2c12c3c6"
  },
  "kernelspec": {
   "display_name": "Python 3.10.1 64-bit",
   "language": "python",
   "name": "python3"
  },
  "language_info": {
   "codemirror_mode": {
    "name": "ipython",
    "version": 3
   },
   "file_extension": ".py",
   "mimetype": "text/x-python",
   "name": "python",
   "nbconvert_exporter": "python",
   "pygments_lexer": "ipython3",
   "version": "3.10.1"
  },
  "orig_nbformat": 4
 },
 "nbformat": 4,
 "nbformat_minor": 2
}
