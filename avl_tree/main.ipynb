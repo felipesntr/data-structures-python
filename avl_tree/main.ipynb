{
 "cells": [
  {
   "cell_type": "markdown",
   "metadata": {},
   "source": [
    "# Ávore AVL"
   ]
  },
  {
   "cell_type": "markdown",
   "metadata": {},
   "source": [
    "## Introdução"
   ]
  },
  {
   "cell_type": "markdown",
   "metadata": {},
   "source": [
    "### Conceitos chave de àrvore binária\n",
    "    - Cada nó possui até 2 filhos\n",
    "    - Para uma árvore de altura h existem [2^(h+1)-1] nós\n",
    "    - Com n nós possui latura entre log_2  (n-1) <= h <= n-1"
   ]
  },
  {
   "cell_type": "markdown",
   "metadata": {},
   "source": [
    "    - As operações na árvore tem custo O(h)\n",
    "    - As degeneração da árvore binária leva a uma altura [h=n-1] e ocorre devido ao desbalanceamento"
   ]
  },
  {
   "cell_type": "code",
   "execution_count": null,
   "metadata": {},
   "outputs": [],
   "source": [
    "'''\n",
    "a_1                   0\n",
    " \\\n",
    "  a_2                 1\n",
    "    \\\n",
    "     a_3              2\n",
    "      ...\n",
    "        a_n-1         n-2\n",
    "         \\\n",
    "          a_n         n-1\n",
    "'''"
   ]
  },
  {
   "cell_type": "markdown",
   "metadata": {},
   "source": [
    "### O que é balanceamento de uma árvore binária?\n",
    "    - É a aplocação de restrições estruturais na realização das operações para garantir que a árvore resultante possua uma altura logarítimica\n",
    "    - Impede o processo de degeneração e garante a eficiência computacional da estrutura"
   ]
  },
  {
   "cell_type": "markdown",
   "metadata": {},
   "source": [
    "### Árvore AVL: Adelson-Velsky e Landis\n",
    "    - É uma árvore binária balanceada criada em 1962\n",
    "    - Controla a altura das subárvores para evitar processo de degeneração"
   ]
  },
  {
   "cell_type": "markdown",
   "metadata": {},
   "source": [
    "### Definição da estrutura\n",
    "    - Cada nó possui um fator de balanceamento\n",
    "    - É feito o cálculo da diferença de altura das subárvores de cada nó, considerando que a altura esquerda é negativa e a direita é positiva"
   ]
  },
  {
   "cell_type": "code",
   "execution_count": null,
   "metadata": {},
   "outputs": [],
   "source": [
    "'''              P\n",
    "                [B]\n",
    "                [C]\n",
    "               [E][D]\n",
    "               /    \\\n",
    "             [B]    [B]\n",
    "          Fe [C]    [C]\n",
    "            [E][D] [E][D]\n",
    "            /    \\ /    \\\n",
    "'''"
   ]
  },
  {
   "cell_type": "code",
   "execution_count": 2,
   "metadata": {},
   "outputs": [],
   "source": [
    "class Node:\n",
    "    B: int\n",
    "    C: int\n",
    "    "
   ]
  },
  {
   "cell_type": "markdown",
   "metadata": {},
   "source": [
    "### Operações de rotação\n",
    "    - São necessárias para garantir balanceamento\n",
    "    - Sempre que o fator de balanceamento possui módulo superior a 1, é necessário rotacionar os nós para ajustar a altura das subárvores"
   ]
  },
  {
   "cell_type": "markdown",
   "metadata": {},
   "source": [
    "### Tipos de rotação\n",
    "    - Simples para esquerda ( L-rotation )\n",
    "    - Simples para direita ( R-rotation )\n",
    "    - Dupla esquerda-direita ( LR-rotation )\n",
    "    - Dupla direita-esquerda ( RL-rotation )"
   ]
  },
  {
   "cell_type": "markdown",
   "metadata": {},
   "source": [
    "### Rotação simples para esquerda\n",
    "    - É aplicada quando existe um desbalanceamento positivo com degeneração da subárvore direita"
   ]
  },
  {
   "cell_type": "code",
   "execution_count": null,
   "metadata": {},
   "outputs": [],
   "source": [
    "def rotacao_E(raiz):\n",
    "    eixo: Node = raiz.D\n",
    "    raiz.D = eixo.E\n",
    "    eixo.E = raiz\n",
    "    balanceamento(raiz)"
   ]
  },
  {
   "cell_type": "markdown",
   "metadata": {},
   "source": [
    "### Rotação dupla esquerda-direita"
   ]
  },
  {
   "cell_type": "markdown",
   "metadata": {},
   "source": [
    "    - É realizada quando existe um desbalanceamento negativo e positivo nas subárvores esquerda e direita\n",
    "    - São aplicadas rotações para esquerda e para direita"
   ]
  },
  {
   "cell_type": "code",
   "execution_count": null,
   "metadata": {},
   "outputs": [],
   "source": [
    "def rotacao_D_E(raiz):\n",
    "    rotacao_D(raiz.D)\n",
    "    rotacao_E(raiz)"
   ]
  },
  {
   "cell_type": "markdown",
   "metadata": {},
   "source": [
    "## Operações básicas\n",
    "\n",
    "    - Busca\n",
    "    - Inserção\n",
    "    - Remoção"
   ]
  },
  {
   "cell_type": "markdown",
   "metadata": {},
   "source": [
    "#### Operação de busca\n",
    "    - A busca tem início pelo elemento raiz da árvore, comparando o valor de sua chave\n",
    "        - Se for menor a busca é aplicada na subárvore esquerda ou maior, pela direita.\n",
    "            - Se repete até encontrar uma referência nula."
   ]
  },
  {
   "cell_type": "markdown",
   "metadata": {},
   "source": [
    "#### Operação de remoção\n",
    "    - Caso 1: o nó é uma folha\n",
    "        - É feita a busca e remoção pela chave do elemento, além da checagem do balanceamento do nó pai.\n",
    "        - A operação não desbalanceou a árvore.\n",
    "    - Caso 2: o nó removido possui uma subárvore\n",
    "        - É feita a busca e remoção pela chave do elemento, além da checagem do balanceamento do nó pai.\n",
    "        - A operação não desbalanceou a árvore.\n",
    "    - Caso 3: o nó removido possui duas subárvores\n",
    "        - É feita a busca e remoção pela chave do elemento, além da checagem do balanceamento do nó pai.\n",
    "        - A operação desbalanceou a árvore, necessitando que seja feita uma rotação."
   ]
  },
  {
   "cell_type": "markdown",
   "metadata": {},
   "source": [
    "### Análise de complexidade\n",
    "    - No pior caso, a busca percorre a altura h da árvore que possui n nós, entretanto a aplicação das técnicas de balanceamento garante que h ~~ log_2 n\n",
    "    - Espaço /O(n)\n",
    "    - Tempo: omega(1) e O(log_2 n)"
   ]
  },
  {
   "cell_type": "markdown",
   "metadata": {},
   "source": [
    "## Exercicios"
   ]
  },
  {
   "cell_type": "markdown",
   "metadata": {},
   "source": [
    "1 - Insira os elemejntos com chave 13, 2, 34, 11, 7, 43 e 9"
   ]
  },
  {
   "cell_type": "code",
   "execution_count": 1,
   "metadata": {},
   "outputs": [],
   "source": [
    "class Node:\n",
    "    def __init__(self, data):\n",
    "        self.data = data\n",
    "        B: int\n",
    "        height: int\n",
    "        E: Node\n",
    "        D: Node"
   ]
  },
  {
   "cell_type": "code",
   "execution_count": null,
   "metadata": {},
   "outputs": [],
   "source": [
    "def insert(root, data):\n",
    "    if root is None:\n",
    "        root = Node(data)\n",
    "    else: \n",
    "        if root.left is None:\n",
    "            root.next = Node(data)\n",
    "            balanceamento(root)\n",
    "        else:\n",
    "            \n",
    "        "
   ]
  }
 ],
 "metadata": {
  "interpreter": {
   "hash": "2cdb952b1e544b37c18f1808d2be8ca31f1dba0f364734d5f4bae90c2c12c3c6"
  },
  "kernelspec": {
   "display_name": "Python 3.10.1 64-bit",
   "language": "python",
   "name": "python3"
  },
  "language_info": {
   "codemirror_mode": {
    "name": "ipython",
    "version": 3
   },
   "file_extension": ".py",
   "mimetype": "text/x-python",
   "name": "python",
   "nbconvert_exporter": "python",
   "pygments_lexer": "ipython3",
   "version": "3.10.1"
  },
  "orig_nbformat": 4
 },
 "nbformat": 4,
 "nbformat_minor": 2
}
