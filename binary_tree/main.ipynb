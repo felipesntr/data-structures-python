{
 "cells": [
  {
   "cell_type": "markdown",
   "metadata": {},
   "source": [
    "# Árvore binária\n",
    "\n",
    "- É uma representação natural de informações hierárquicas\n",
    "  - Arvore genealogica\n",
    "  - Organigrama\n",
    "  - Estruturas de diretórios\n",
    "  - etc...\n",
    "- Eficiência e simplicidade\n",
    "\n",
    "- Tipos de árvores\n",
    "  - Arvore livre ou enrraizada ( unrooted) ou grafo\n",
    "  - Arvore enraizada (rooted)\n",
    "  - Arvore k-ária"
   ]
  },
  {
   "cell_type": "code",
   "execution_count": 8,
   "metadata": {},
   "outputs": [
    {
     "ename": "TypeError",
     "evalue": "binary_tree.__init__() takes 2 positional arguments but 3 were given",
     "output_type": "error",
     "traceback": [
      "\u001b[1;31m---------------------------------------------------------------------------\u001b[0m",
      "\u001b[1;31mTypeError\u001b[0m                                 Traceback (most recent call last)",
      "\u001b[1;32me:\\nova_area_de_trabalho\\UFS\\2021.2\\ESTRUTURAS DE DADOS - T01\\python\\binary_tree\\main.ipynb Cell 2'\u001b[0m in \u001b[0;36m<cell line: 17>\u001b[1;34m()\u001b[0m\n\u001b[0;32m     <a href='vscode-notebook-cell:/e%3A/nova_area_de_trabalho/UFS/2021.2/ESTRUTURAS%20DE%20DADOS%20-%20T01/python/binary_tree/main.ipynb#ch0000002?line=13'>14</a>\u001b[0m     \u001b[39mreturn\u001b[39;00m data;\n\u001b[0;32m     <a href='vscode-notebook-cell:/e%3A/nova_area_de_trabalho/UFS/2021.2/ESTRUTURAS%20DE%20DADOS%20-%20T01/python/binary_tree/main.ipynb#ch0000002?line=15'>16</a>\u001b[0m tree \u001b[39m=\u001b[39m binary_tree(\u001b[39m'\u001b[39m\u001b[39ma\u001b[39m\u001b[39m'\u001b[39m)\n\u001b[1;32m---> <a href='vscode-notebook-cell:/e%3A/nova_area_de_trabalho/UFS/2021.2/ESTRUTURAS%20DE%20DADOS%20-%20T01/python/binary_tree/main.ipynb#ch0000002?line=16'>17</a>\u001b[0m tree\u001b[39m.\u001b[39;49minsert_left(\u001b[39m'\u001b[39;49m\u001b[39mb\u001b[39;49m\u001b[39m'\u001b[39;49m)\n\u001b[0;32m     <a href='vscode-notebook-cell:/e%3A/nova_area_de_trabalho/UFS/2021.2/ESTRUTURAS%20DE%20DADOS%20-%20T01/python/binary_tree/main.ipynb#ch0000002?line=17'>18</a>\u001b[0m tree\u001b[39m.\u001b[39minsert_right(\u001b[39m'\u001b[39m\u001b[39mc\u001b[39m\u001b[39m'\u001b[39m)\n",
      "\u001b[1;32me:\\nova_area_de_trabalho\\UFS\\2021.2\\ESTRUTURAS DE DADOS - T01\\python\\binary_tree\\main.ipynb Cell 2'\u001b[0m in \u001b[0;36mbinary_tree.insert_left\u001b[1;34m(self, data)\u001b[0m\n\u001b[0;32m      <a href='vscode-notebook-cell:/e%3A/nova_area_de_trabalho/UFS/2021.2/ESTRUTURAS%20DE%20DADOS%20-%20T01/python/binary_tree/main.ipynb#ch0000002?line=8'>9</a>\u001b[0m \u001b[39mdef\u001b[39;00m \u001b[39minsert_left\u001b[39m(\u001b[39mself\u001b[39m, data):\n\u001b[1;32m---> <a href='vscode-notebook-cell:/e%3A/nova_area_de_trabalho/UFS/2021.2/ESTRUTURAS%20DE%20DADOS%20-%20T01/python/binary_tree/main.ipynb#ch0000002?line=9'>10</a>\u001b[0m   \u001b[39mself\u001b[39m\u001b[39m.\u001b[39mleft \u001b[39m=\u001b[39m binary_tree(\u001b[39mself\u001b[39;49m, data)\n\u001b[0;32m     <a href='vscode-notebook-cell:/e%3A/nova_area_de_trabalho/UFS/2021.2/ESTRUTURAS%20DE%20DADOS%20-%20T01/python/binary_tree/main.ipynb#ch0000002?line=10'>11</a>\u001b[0m   \u001b[39mreturn\u001b[39;00m data\n",
      "\u001b[1;31mTypeError\u001b[0m: binary_tree.__init__() takes 2 positional arguments but 3 were given"
     ]
    }
   ],
   "source": [
    "class binary_tree:\n",
    "  left = None\n",
    "  right = None\n",
    "\n",
    "  def __init__(self, data):\n",
    "    self.data = data\n",
    "    self.left = None\n",
    "    self.right = None\n",
    "  def insert_left(self, data):\n",
    "    self.left = binary_tree(self, data)\n",
    "    return self.left;\n",
    "  def insert_right(self, data):\n",
    "    self.right = binary_tree(self, data)\n",
    "    return self.right;\n",
    "\n",
    "tree = binary_tree('a')\n",
    "tree.insert_left('b')\n",
    "tree.insert_right('c')\n"
   ]
  },
  {
   "cell_type": "code",
   "execution_count": null,
   "metadata": {},
   "outputs": [],
   "source": []
  }
 ],
 "metadata": {
  "interpreter": {
   "hash": "2cdb952b1e544b37c18f1808d2be8ca31f1dba0f364734d5f4bae90c2c12c3c6"
  },
  "kernelspec": {
   "display_name": "Python 3.10.1 64-bit",
   "language": "python",
   "name": "python3"
  },
  "language_info": {
   "codemirror_mode": {
    "name": "ipython",
    "version": 3
   },
   "file_extension": ".py",
   "mimetype": "text/x-python",
   "name": "python",
   "nbconvert_exporter": "python",
   "pygments_lexer": "ipython3",
   "version": "3.10.1"
  },
  "orig_nbformat": 4
 },
 "nbformat": 4,
 "nbformat_minor": 2
}
