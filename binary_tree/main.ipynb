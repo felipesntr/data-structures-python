{
 "cells": [
  {
   "cell_type": "markdown",
   "metadata": {},
   "source": [
    "# Árvore binária"
   ]
  },
  {
   "cell_type": "code",
   "execution_count": 30,
   "metadata": {},
   "outputs": [],
   "source": [
    "class Node:\n",
    "    left = None\n",
    "    right = None\n",
    "\n",
    "    def __init__(self, data):\n",
    "        self.data = data\n",
    "        self.left = None\n",
    "        self.right = None"
   ]
  },
  {
   "cell_type": "markdown",
   "metadata": {},
   "source": [
    "# Percursos na árvore\n",
    "\n",
    "Definem como os nós da árvore serão visitados\n",
    "  - Em ordem EPD\n",
    "  - Pré-ordem PED\n",
    "  - Pós-ordem EDP"
   ]
  },
  {
   "cell_type": "markdown",
   "metadata": {},
   "source": [
    "- Expressão (A + B) * C\n",
    "\n",
    "          *\n",
    "        /   \\\n",
    "      +       C\n",
    "    /   \\   \n",
    "  A       B"
   ]
  },
  {
   "cell_type": "markdown",
   "metadata": {},
   "source": [
    "# Contando os nós de uma árvore binária"
   ]
  },
  {
   "cell_type": "code",
   "execution_count": 35,
   "metadata": {},
   "outputs": [
    {
     "data": {
      "text/plain": [
       "4"
      ]
     },
     "execution_count": 35,
     "metadata": {},
     "output_type": "execute_result"
    }
   ],
   "source": [
    "def count(root):\n",
    "  if(root == None):\n",
    "    return 0\n",
    "  return count(root.left) + count(root.right) + 1\n",
    "\n",
    "'''\n",
    "          a\n",
    "        /   \\\n",
    "      b       k\n",
    "    /   \\\n",
    "          c       \n",
    "'''\n",
    "\n",
    "tree = Node('a')\n",
    "tree.left = Node('b')\n",
    "tree.left.right = Node('c')\n",
    "tree.right = Node('k')\n",
    "\n",
    "count(tree)"
   ]
  },
  {
   "cell_type": "markdown",
   "metadata": {},
   "source": []
  },
  {
   "cell_type": "code",
   "execution_count": 38,
   "metadata": {},
   "outputs": [
    {
     "name": "stdout",
     "output_type": "stream",
     "text": [
      "b\n",
      "c\n",
      "a\n",
      "k\n"
     ]
    }
   ],
   "source": [
    "def print_root(root):\n",
    "  if(root.left):\n",
    "    print_root(root.left)\n",
    "  print(root.data)\n",
    "  if(root.right):\n",
    "    print_root(root.right)\n",
    "\n",
    "print_root(tree)"
   ]
  },
  {
   "cell_type": "code",
   "execution_count": 51,
   "metadata": {},
   "outputs": [
    {
     "data": {
      "text/plain": [
       "12.0"
      ]
     },
     "execution_count": 51,
     "metadata": {},
     "output_type": "execute_result"
    }
   ],
   "source": [
    "'''\n",
    "Expressão (1 + 2) * ( ( 4 + 4 ) / 2 )\n",
    "             * \n",
    "         /       \\\n",
    "      +           /\n",
    "    /   \\       /   \\\n",
    "   1     2     +     2\n",
    "             /   \\   \n",
    "            4     4    \n",
    "'''\n",
    "\n",
    "tree = Node('*')\n",
    "tree.left = Node(\"+\")\n",
    "tree.left.left = Node(1)\n",
    "tree.left.right = Node(2)\n",
    "tree.right = Node('/')\n",
    "tree.right.left = Node(\"+\")\n",
    "tree.right.left.left = Node(4)\n",
    "tree.right.left.right = Node(4)\n",
    "tree.right.right = Node(2)\n",
    "\n",
    "def eval_expr(root):\n",
    "  if(root.data == '*'):\n",
    "    return eval_expr(root.left) * eval_expr(root.right)\n",
    "  if(root.data == '/'):\n",
    "    return eval_expr(root.left) / eval_expr(root.right)\n",
    "  if(root.data == '-'):\n",
    "    return eval_expr(root.left) - eval_expr(root.right)\n",
    "  if(root.data == '+'):\n",
    "    return eval_expr(root.left) + eval_expr(root.right)\n",
    "  return root.data\n",
    "\n",
    "eval_expr(tree) \n",
    "  "
   ]
  },
  {
   "cell_type": "markdown",
   "metadata": {},
   "source": [
    "# Percorrer a árvore"
   ]
  },
  {
   "cell_type": "markdown",
   "metadata": {},
   "source": [
    "## Pré-ordem"
   ]
  },
  {
   "cell_type": "code",
   "execution_count": 55,
   "metadata": {},
   "outputs": [
    {
     "name": "stdout",
     "output_type": "stream",
     "text": [
      "PREORDER\n",
      "*\n",
      "+\n",
      "1\n",
      "2\n",
      "/\n",
      "+\n",
      "4\n",
      "4\n",
      "2\n"
     ]
    }
   ],
   "source": [
    "def preorder(root):\n",
    "  if(root == None):\n",
    "    return\n",
    "  print(root.data)\n",
    "  preorder(root.left)\n",
    "  preorder(root.right)\n",
    "\n",
    "preorder(tree)"
   ]
  },
  {
   "cell_type": "markdown",
   "metadata": {},
   "source": [
    "## Em ordem"
   ]
  },
  {
   "cell_type": "code",
   "execution_count": 58,
   "metadata": {},
   "outputs": [
    {
     "name": "stdout",
     "output_type": "stream",
     "text": [
      "1\n",
      "+\n",
      "2\n",
      "*\n",
      "4\n",
      "+\n",
      "4\n",
      "/\n",
      "2\n"
     ]
    }
   ],
   "source": [
    "def preorder(root):\n",
    "  if(root == None):\n",
    "    return\n",
    "  preorder(root.left)\n",
    "  print(root.data)\n",
    "  preorder(root.right)\n",
    "\n",
    "preorder(tree)"
   ]
  },
  {
   "cell_type": "markdown",
   "metadata": {},
   "source": [
    "## Pós-ordem"
   ]
  },
  {
   "cell_type": "code",
   "execution_count": 59,
   "metadata": {},
   "outputs": [
    {
     "name": "stdout",
     "output_type": "stream",
     "text": [
      "1\n",
      "2\n",
      "+\n",
      "4\n",
      "4\n",
      "+\n",
      "2\n",
      "/\n",
      "*\n"
     ]
    }
   ],
   "source": [
    "def preorder(root):\n",
    "  if(root == None):\n",
    "    return\n",
    "  preorder(root.left)\n",
    "  preorder(root.right)\n",
    "  print(root.data)\n",
    "\n",
    "preorder(tree)"
   ]
  }
 ],
 "metadata": {
  "interpreter": {
   "hash": "2cdb952b1e544b37c18f1808d2be8ca31f1dba0f364734d5f4bae90c2c12c3c6"
  },
  "kernelspec": {
   "display_name": "Python 3.10.1 64-bit",
   "language": "python",
   "name": "python3"
  },
  "language_info": {
   "codemirror_mode": {
    "name": "ipython",
    "version": 3
   },
   "file_extension": ".py",
   "mimetype": "text/x-python",
   "name": "python",
   "nbconvert_exporter": "python",
   "pygments_lexer": "ipython3",
   "version": "3.10.1"
  },
  "orig_nbformat": 4
 },
 "nbformat": 4,
 "nbformat_minor": 2
}
